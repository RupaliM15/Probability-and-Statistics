{
 "cells": [
  {
   "cell_type": "markdown",
   "id": "7d352f88",
   "metadata": {},
   "source": [
    "Assignment 3"
   ]
  },
  {
   "cell_type": "markdown",
   "id": "7ad630f9",
   "metadata": {},
   "source": [
    " Problem statement 1"
   ]
  },
  {
   "cell_type": "code",
   "execution_count": 1,
   "id": "4cea2d05",
   "metadata": {},
   "outputs": [],
   "source": [
    "import scipy.stats as stats"
   ]
  },
  {
   "cell_type": "code",
   "execution_count": 2,
   "id": "5cced5fa",
   "metadata": {},
   "outputs": [
    {
     "name": "stdout",
     "output_type": "stream",
     "text": [
      "172\n"
     ]
    }
   ],
   "source": [
    "x = int(input())"
   ]
  },
  {
   "cell_type": "code",
   "execution_count": 4,
   "id": "15c28b1a",
   "metadata": {},
   "outputs": [
    {
     "data": {
      "text/plain": [
       "0.86"
      ]
     },
     "execution_count": 4,
     "metadata": {},
     "output_type": "execute_result"
    }
   ],
   "source": [
    "# 90% confidence interval\n",
    "n = 200   # Total no. of customers\n",
    "p = x/n   # Proporation of highly satisfied customers\n",
    "p"
   ]
  },
  {
   "cell_type": "code",
   "execution_count": 5,
   "id": "63438110",
   "metadata": {},
   "outputs": [
    {
     "data": {
      "text/plain": [
       "1.6448536269514722"
      ]
     },
     "execution_count": 5,
     "metadata": {},
     "output_type": "execute_result"
    }
   ],
   "source": [
    "z = stats.norm.ppf(0.95)    # ppf means percent point function\n",
    "z"
   ]
  },
  {
   "cell_type": "code",
   "execution_count": 6,
   "id": "13d9f010",
   "metadata": {},
   "outputs": [
    {
     "data": {
      "text/plain": [
       "0.024535688292770596"
      ]
     },
     "execution_count": 6,
     "metadata": {},
     "output_type": "execute_result"
    }
   ],
   "source": [
    "se = (p*(1-p)/n)**0.5  # standart error of proportion\n",
    "se"
   ]
  },
  {
   "cell_type": "code",
   "execution_count": 8,
   "id": "cd2449c9",
   "metadata": {},
   "outputs": [
    {
     "data": {
      "text/plain": [
       "0.04035761587811449"
      ]
     },
     "execution_count": 8,
     "metadata": {},
     "output_type": "execute_result"
    }
   ],
   "source": [
    "margin_of_error = z*se\n",
    "margin_of_error"
   ]
  },
  {
   "cell_type": "code",
   "execution_count": 9,
   "id": "5ebebe2a",
   "metadata": {},
   "outputs": [],
   "source": [
    "# confidence interval\n",
    "C_I_lower = p - margin_of_error\n",
    "C_I_upper = p + margin_of_error"
   ]
  },
  {
   "cell_type": "code",
   "execution_count": 12,
   "id": "3d673bbe",
   "metadata": {},
   "outputs": [],
   "source": [
    "# print the CI values rounded up to five decimal places"
   ]
  },
  {
   "cell_type": "code",
   "execution_count": 14,
   "id": "ddb53749",
   "metadata": {},
   "outputs": [
    {
     "name": "stdout",
     "output_type": "stream",
     "text": [
      "0.81964 0.90036\n"
     ]
    }
   ],
   "source": [
    "print(round(C_I_lower,5),round(C_I_upper,5))\n"
   ]
  },
  {
   "cell_type": "markdown",
   "id": "5dcd8e08",
   "metadata": {},
   "source": [
    "problem statement 2"
   ]
  },
  {
   "cell_type": "code",
   "execution_count": 16,
   "id": "af7f6516",
   "metadata": {},
   "outputs": [
    {
     "name": "stdout",
     "output_type": "stream",
     "text": [
      "100\n"
     ]
    },
    {
     "data": {
      "text/plain": [
       "100"
      ]
     },
     "execution_count": 16,
     "metadata": {},
     "output_type": "execute_result"
    }
   ],
   "source": [
    "x = int(input())\n",
    "x"
   ]
  },
  {
   "cell_type": "code",
   "execution_count": 17,
   "id": "9d9ec295",
   "metadata": {},
   "outputs": [],
   "source": [
    "# Given\n",
    "mean = 75\n",
    "std = 15"
   ]
  },
  {
   "cell_type": "code",
   "execution_count": 18,
   "id": "c9f29917",
   "metadata": {},
   "outputs": [],
   "source": [
    "z_score = (x - mean )/std"
   ]
  },
  {
   "cell_type": "code",
   "execution_count": 19,
   "id": "0dda6e5c",
   "metadata": {},
   "outputs": [],
   "source": [
    "# cumulative distribution function\n",
    "probability = 1 - stats.norm.cdf(z_score)"
   ]
  },
  {
   "cell_type": "code",
   "execution_count": 20,
   "id": "8adc2620",
   "metadata": {},
   "outputs": [
    {
     "name": "stdout",
     "output_type": "stream",
     "text": [
      "0.0478\n"
     ]
    }
   ],
   "source": [
    "print(round(probability,4))"
   ]
  },
  {
   "cell_type": "markdown",
   "id": "7d7907fc",
   "metadata": {},
   "source": [
    "problem statement 3"
   ]
  },
  {
   "cell_type": "code",
   "execution_count": 21,
   "id": "2adb51bd",
   "metadata": {},
   "outputs": [],
   "source": [
    "import pandas as pd"
   ]
  },
  {
   "cell_type": "code",
   "execution_count": 24,
   "id": "0d4f95a7",
   "metadata": {},
   "outputs": [
    {
     "data": {
      "text/html": [
       "<div>\n",
       "<style scoped>\n",
       "    .dataframe tbody tr th:only-of-type {\n",
       "        vertical-align: middle;\n",
       "    }\n",
       "\n",
       "    .dataframe tbody tr th {\n",
       "        vertical-align: top;\n",
       "    }\n",
       "\n",
       "    .dataframe thead th {\n",
       "        text-align: right;\n",
       "    }\n",
       "</style>\n",
       "<table border=\"1\" class=\"dataframe\">\n",
       "  <thead>\n",
       "    <tr style=\"text-align: right;\">\n",
       "      <th></th>\n",
       "      <th>YEAR</th>\n",
       "      <th>JAN</th>\n",
       "      <th>FEB</th>\n",
       "      <th>MAR</th>\n",
       "      <th>APR</th>\n",
       "      <th>MAY</th>\n",
       "      <th>JUN</th>\n",
       "      <th>JUL</th>\n",
       "      <th>AUG</th>\n",
       "      <th>SEP</th>\n",
       "      <th>OCT</th>\n",
       "      <th>NOV</th>\n",
       "      <th>DEC</th>\n",
       "      <th>ANNUAL</th>\n",
       "      <th>JF</th>\n",
       "      <th>MAM</th>\n",
       "      <th>JJAS</th>\n",
       "      <th>OND</th>\n",
       "    </tr>\n",
       "  </thead>\n",
       "  <tbody>\n",
       "    <tr>\n",
       "      <th>0</th>\n",
       "      <td>1901</td>\n",
       "      <td>28.7</td>\n",
       "      <td>44.7</td>\n",
       "      <td>51.6</td>\n",
       "      <td>160.0</td>\n",
       "      <td>174.7</td>\n",
       "      <td>824.6</td>\n",
       "      <td>743.0</td>\n",
       "      <td>357.5</td>\n",
       "      <td>197.7</td>\n",
       "      <td>266.9</td>\n",
       "      <td>350.8</td>\n",
       "      <td>48.4</td>\n",
       "      <td>3248.6</td>\n",
       "      <td>73.4</td>\n",
       "      <td>386.2</td>\n",
       "      <td>2122.8</td>\n",
       "      <td>666.1</td>\n",
       "    </tr>\n",
       "    <tr>\n",
       "      <th>1</th>\n",
       "      <td>1902</td>\n",
       "      <td>6.7</td>\n",
       "      <td>2.6</td>\n",
       "      <td>57.3</td>\n",
       "      <td>83.9</td>\n",
       "      <td>134.5</td>\n",
       "      <td>390.9</td>\n",
       "      <td>1205.0</td>\n",
       "      <td>315.8</td>\n",
       "      <td>491.6</td>\n",
       "      <td>358.4</td>\n",
       "      <td>158.3</td>\n",
       "      <td>121.5</td>\n",
       "      <td>3326.6</td>\n",
       "      <td>9.3</td>\n",
       "      <td>275.7</td>\n",
       "      <td>2403.4</td>\n",
       "      <td>638.2</td>\n",
       "    </tr>\n",
       "    <tr>\n",
       "      <th>2</th>\n",
       "      <td>1903</td>\n",
       "      <td>3.2</td>\n",
       "      <td>18.6</td>\n",
       "      <td>3.1</td>\n",
       "      <td>83.6</td>\n",
       "      <td>249.7</td>\n",
       "      <td>558.6</td>\n",
       "      <td>1022.5</td>\n",
       "      <td>420.2</td>\n",
       "      <td>341.8</td>\n",
       "      <td>354.1</td>\n",
       "      <td>157.0</td>\n",
       "      <td>59.0</td>\n",
       "      <td>3271.2</td>\n",
       "      <td>21.7</td>\n",
       "      <td>336.3</td>\n",
       "      <td>2343.0</td>\n",
       "      <td>570.1</td>\n",
       "    </tr>\n",
       "    <tr>\n",
       "      <th>3</th>\n",
       "      <td>1904</td>\n",
       "      <td>23.7</td>\n",
       "      <td>3.0</td>\n",
       "      <td>32.2</td>\n",
       "      <td>71.5</td>\n",
       "      <td>235.7</td>\n",
       "      <td>1098.2</td>\n",
       "      <td>725.5</td>\n",
       "      <td>351.8</td>\n",
       "      <td>222.7</td>\n",
       "      <td>328.1</td>\n",
       "      <td>33.9</td>\n",
       "      <td>3.3</td>\n",
       "      <td>3129.7</td>\n",
       "      <td>26.7</td>\n",
       "      <td>339.4</td>\n",
       "      <td>2398.2</td>\n",
       "      <td>365.3</td>\n",
       "    </tr>\n",
       "    <tr>\n",
       "      <th>4</th>\n",
       "      <td>1905</td>\n",
       "      <td>1.2</td>\n",
       "      <td>22.3</td>\n",
       "      <td>9.4</td>\n",
       "      <td>105.9</td>\n",
       "      <td>263.3</td>\n",
       "      <td>850.2</td>\n",
       "      <td>520.5</td>\n",
       "      <td>293.6</td>\n",
       "      <td>217.2</td>\n",
       "      <td>383.5</td>\n",
       "      <td>74.4</td>\n",
       "      <td>0.2</td>\n",
       "      <td>2741.6</td>\n",
       "      <td>23.4</td>\n",
       "      <td>378.5</td>\n",
       "      <td>1881.5</td>\n",
       "      <td>458.1</td>\n",
       "    </tr>\n",
       "  </tbody>\n",
       "</table>\n",
       "</div>"
      ],
      "text/plain": [
       "   YEAR   JAN   FEB   MAR    APR    MAY     JUN     JUL    AUG    SEP    OCT  \\\n",
       "0  1901  28.7  44.7  51.6  160.0  174.7   824.6   743.0  357.5  197.7  266.9   \n",
       "1  1902   6.7   2.6  57.3   83.9  134.5   390.9  1205.0  315.8  491.6  358.4   \n",
       "2  1903   3.2  18.6   3.1   83.6  249.7   558.6  1022.5  420.2  341.8  354.1   \n",
       "3  1904  23.7   3.0  32.2   71.5  235.7  1098.2   725.5  351.8  222.7  328.1   \n",
       "4  1905   1.2  22.3   9.4  105.9  263.3   850.2   520.5  293.6  217.2  383.5   \n",
       "\n",
       "     NOV    DEC  ANNUAL    JF    MAM    JJAS    OND  \n",
       "0  350.8   48.4  3248.6  73.4  386.2  2122.8  666.1  \n",
       "1  158.3  121.5  3326.6   9.3  275.7  2403.4  638.2  \n",
       "2  157.0   59.0  3271.2  21.7  336.3  2343.0  570.1  \n",
       "3   33.9    3.3  3129.7  26.7  339.4  2398.2  365.3  \n",
       "4   74.4    0.2  2741.6  23.4  378.5  1881.5  458.1  "
      ]
     },
     "execution_count": 24,
     "metadata": {},
     "output_type": "execute_result"
    }
   ],
   "source": [
    "df = pd.read_csv(\"Kerala1.csv\")\n",
    "df"
   ]
  },
  {
   "cell_type": "code",
   "execution_count": 25,
   "id": "06f89f14",
   "metadata": {},
   "outputs": [
    {
     "name": "stdout",
     "output_type": "stream",
     "text": [
      "<class 'pandas.core.frame.DataFrame'>\n",
      "RangeIndex: 5 entries, 0 to 4\n",
      "Data columns (total 18 columns):\n",
      " #   Column  Non-Null Count  Dtype  \n",
      "---  ------  --------------  -----  \n",
      " 0   YEAR    5 non-null      int64  \n",
      " 1   JAN     5 non-null      float64\n",
      " 2   FEB     5 non-null      float64\n",
      " 3   MAR     5 non-null      float64\n",
      " 4   APR     5 non-null      float64\n",
      " 5   MAY     5 non-null      float64\n",
      " 6   JUN     5 non-null      float64\n",
      " 7   JUL     5 non-null      float64\n",
      " 8   AUG     5 non-null      float64\n",
      " 9   SEP     5 non-null      float64\n",
      " 10  OCT     5 non-null      float64\n",
      " 11  NOV     5 non-null      float64\n",
      " 12  DEC     5 non-null      float64\n",
      " 13  ANNUAL  5 non-null      float64\n",
      " 14  JF      5 non-null      float64\n",
      " 15  MAM     5 non-null      float64\n",
      " 16  JJAS    5 non-null      float64\n",
      " 17  OND     5 non-null      float64\n",
      "dtypes: float64(17), int64(1)\n",
      "memory usage: 848.0 bytes\n",
      "None\n"
     ]
    }
   ],
   "source": [
    "print(df.info())"
   ]
  },
  {
   "cell_type": "code",
   "execution_count": 26,
   "id": "54595a1e",
   "metadata": {},
   "outputs": [
    {
     "name": "stdout",
     "output_type": "stream",
     "text": [
      "              YEAR        JAN        FEB        MAR         APR         MAY  \\\n",
      "count     5.000000   5.000000   5.000000   5.000000    5.000000    5.000000   \n",
      "mean   1903.000000  12.700000  18.240000  30.720000  100.980000  211.580000   \n",
      "std       1.581139  12.604563  17.274345  24.300556   35.250631   54.798102   \n",
      "min    1901.000000   1.200000   2.600000   3.100000   71.500000  134.500000   \n",
      "25%    1902.000000   3.200000   3.000000   9.400000   83.600000  174.700000   \n",
      "50%    1903.000000   6.700000  18.600000  32.200000   83.900000  235.700000   \n",
      "75%    1904.000000  23.700000  22.300000  51.600000  105.900000  249.700000   \n",
      "max    1905.000000  28.700000  44.700000  57.300000  160.000000  263.300000   \n",
      "\n",
      "               JUN          JUL         AUG         SEP         OCT  \\\n",
      "count     5.000000     5.000000    5.000000    5.000000    5.000000   \n",
      "mean    744.500000   843.300000  347.780000  294.200000  338.200000   \n",
      "std     274.901782   269.757437   48.253207  124.082654   44.437147   \n",
      "min     390.900000   520.500000  293.600000  197.700000  266.900000   \n",
      "25%     558.600000   725.500000  315.800000  217.200000  328.100000   \n",
      "50%     824.600000   743.000000  351.800000  222.700000  354.100000   \n",
      "75%     850.200000  1022.500000  357.500000  341.800000  358.400000   \n",
      "max    1098.200000  1205.000000  420.200000  491.600000  383.500000   \n",
      "\n",
      "              NOV         DEC       ANNUAL        JF         MAM        JJAS  \\\n",
      "count    5.000000    5.000000     5.000000   5.00000    5.000000     5.00000   \n",
      "mean   154.880000   46.480000  3143.540000  30.90000  343.220000  2229.78000   \n",
      "std    121.977486   49.484311   235.898788  24.65431   43.912948   225.87145   \n",
      "min     33.900000    0.200000  2741.600000   9.30000  275.700000  1881.50000   \n",
      "25%     74.400000    3.300000  3129.700000  21.70000  336.300000  2122.80000   \n",
      "50%    157.000000   48.400000  3248.600000  23.40000  339.400000  2343.00000   \n",
      "75%    158.300000   59.000000  3271.200000  26.70000  378.500000  2398.20000   \n",
      "max    350.800000  121.500000  3326.600000  73.40000  386.200000  2403.40000   \n",
      "\n",
      "            OND  \n",
      "count    5.0000  \n",
      "mean   539.5600  \n",
      "std    126.1717  \n",
      "min    365.3000  \n",
      "25%    458.1000  \n",
      "50%    570.1000  \n",
      "75%    638.2000  \n",
      "max    666.1000  \n"
     ]
    }
   ],
   "source": [
    "print(df.describe())"
   ]
  },
  {
   "cell_type": "code",
   "execution_count": 27,
   "id": "59a5a13f",
   "metadata": {},
   "outputs": [],
   "source": [
    "df_new = pd.DataFrame()\n",
    "df_new['YEAR'] = df['YEAR']\n",
    "df_new['JUN_GT_500'] = df['JUN'] > 500\n",
    "df_new['JUL_GT_500'] = df['JUL'] > 500\n",
    "df_new['FLOODS'] = df_new['JUN_GT_500'] | df_new['JUL_GT_500']"
   ]
  },
  {
   "cell_type": "code",
   "execution_count": 28,
   "id": "fe2ea53c",
   "metadata": {},
   "outputs": [
    {
     "data": {
      "text/html": [
       "<div>\n",
       "<style scoped>\n",
       "    .dataframe tbody tr th:only-of-type {\n",
       "        vertical-align: middle;\n",
       "    }\n",
       "\n",
       "    .dataframe tbody tr th {\n",
       "        vertical-align: top;\n",
       "    }\n",
       "\n",
       "    .dataframe thead th {\n",
       "        text-align: right;\n",
       "    }\n",
       "</style>\n",
       "<table border=\"1\" class=\"dataframe\">\n",
       "  <thead>\n",
       "    <tr style=\"text-align: right;\">\n",
       "      <th></th>\n",
       "      <th>YEAR</th>\n",
       "      <th>JUN_GT_500</th>\n",
       "      <th>JUL_GT_500</th>\n",
       "      <th>FLOODS</th>\n",
       "    </tr>\n",
       "  </thead>\n",
       "  <tbody>\n",
       "    <tr>\n",
       "      <th>0</th>\n",
       "      <td>1901</td>\n",
       "      <td>True</td>\n",
       "      <td>True</td>\n",
       "      <td>True</td>\n",
       "    </tr>\n",
       "    <tr>\n",
       "      <th>1</th>\n",
       "      <td>1902</td>\n",
       "      <td>False</td>\n",
       "      <td>True</td>\n",
       "      <td>True</td>\n",
       "    </tr>\n",
       "    <tr>\n",
       "      <th>2</th>\n",
       "      <td>1903</td>\n",
       "      <td>True</td>\n",
       "      <td>True</td>\n",
       "      <td>True</td>\n",
       "    </tr>\n",
       "    <tr>\n",
       "      <th>3</th>\n",
       "      <td>1904</td>\n",
       "      <td>True</td>\n",
       "      <td>True</td>\n",
       "      <td>True</td>\n",
       "    </tr>\n",
       "    <tr>\n",
       "      <th>4</th>\n",
       "      <td>1905</td>\n",
       "      <td>True</td>\n",
       "      <td>True</td>\n",
       "      <td>True</td>\n",
       "    </tr>\n",
       "  </tbody>\n",
       "</table>\n",
       "</div>"
      ],
      "text/plain": [
       "   YEAR  JUN_GT_500  JUL_GT_500  FLOODS\n",
       "0  1901        True        True    True\n",
       "1  1902       False        True    True\n",
       "2  1903        True        True    True\n",
       "3  1904        True        True    True\n",
       "4  1905        True        True    True"
      ]
     },
     "execution_count": 28,
     "metadata": {},
     "output_type": "execute_result"
    }
   ],
   "source": [
    "df_new"
   ]
  },
  {
   "cell_type": "code",
   "execution_count": 31,
   "id": "cf1130bb",
   "metadata": {},
   "outputs": [],
   "source": [
    "# calculate the probability of flood given it rained more than 500mm in june\n",
    "p_A_given_B = df_new[df_new['JUN_GT_500']]['FLOODS'].mean()"
   ]
  },
  {
   "cell_type": "code",
   "execution_count": 32,
   "id": "156b39dd",
   "metadata": {},
   "outputs": [],
   "source": [
    "# calculate the probability of rain more than 500mm in june, given flooded that year\n",
    "p_B_given_A = df_new[df_new['FLOODS']]['JUN_GT_500'].mean()"
   ]
  },
  {
   "cell_type": "code",
   "execution_count": 33,
   "id": "f952ec6b",
   "metadata": {},
   "outputs": [],
   "source": [
    "# calculate the probability of flood given it rained more than 500mm in july\n",
    "p_A_given_B_july = df_new[df_new['JUL_GT_500']]['FLOODS'].mean()"
   ]
  },
  {
   "cell_type": "code",
   "execution_count": 34,
   "id": "0fb593ab",
   "metadata": {},
   "outputs": [],
   "source": [
    "# Calculate the probability of rain more than 500mm in july, given it flooded that year\n",
    "p_B_given_A_july = df_new[df_new['FLOODS']]['JUL_GT_500'].mean()"
   ]
  },
  {
   "cell_type": "code",
   "execution_count": 35,
   "id": "15bc007c",
   "metadata": {},
   "outputs": [
    {
     "name": "stdout",
     "output_type": "stream",
     "text": [
      "1.0\n",
      "0.8\n",
      "1.0\n",
      "1.0\n"
     ]
    }
   ],
   "source": [
    "print(p_A_given_B )\n",
    "print(p_B_given_A)\n",
    "print(p_A_given_B_july)\n",
    "print(p_B_given_A_july)"
   ]
  },
  {
   "cell_type": "markdown",
   "id": "2b1972dc",
   "metadata": {},
   "source": [
    "problem statement 4"
   ]
  },
  {
   "cell_type": "code",
   "execution_count": 45,
   "id": "2b23944a",
   "metadata": {},
   "outputs": [],
   "source": [
    "from sklearn.datasets import load_wine\n",
    "wine=load_wine()"
   ]
  },
  {
   "cell_type": "code",
   "execution_count": 46,
   "id": "6d0cdf42",
   "metadata": {},
   "outputs": [],
   "source": [
    "df = pd.DataFrame(wine.data, columns=wine.feature_names)"
   ]
  },
  {
   "cell_type": "code",
   "execution_count": 48,
   "id": "ca34a0bd",
   "metadata": {},
   "outputs": [
    {
     "data": {
      "text/html": [
       "<div>\n",
       "<style scoped>\n",
       "    .dataframe tbody tr th:only-of-type {\n",
       "        vertical-align: middle;\n",
       "    }\n",
       "\n",
       "    .dataframe tbody tr th {\n",
       "        vertical-align: top;\n",
       "    }\n",
       "\n",
       "    .dataframe thead th {\n",
       "        text-align: right;\n",
       "    }\n",
       "</style>\n",
       "<table border=\"1\" class=\"dataframe\">\n",
       "  <thead>\n",
       "    <tr style=\"text-align: right;\">\n",
       "      <th></th>\n",
       "      <th>alcohol</th>\n",
       "      <th>malic_acid</th>\n",
       "      <th>ash</th>\n",
       "      <th>alcalinity_of_ash</th>\n",
       "      <th>magnesium</th>\n",
       "      <th>total_phenols</th>\n",
       "      <th>flavanoids</th>\n",
       "      <th>nonflavanoid_phenols</th>\n",
       "      <th>proanthocyanins</th>\n",
       "      <th>color_intensity</th>\n",
       "      <th>hue</th>\n",
       "      <th>od280/od315_of_diluted_wines</th>\n",
       "      <th>proline</th>\n",
       "    </tr>\n",
       "  </thead>\n",
       "  <tbody>\n",
       "    <tr>\n",
       "      <th>0</th>\n",
       "      <td>14.23</td>\n",
       "      <td>1.71</td>\n",
       "      <td>2.43</td>\n",
       "      <td>15.6</td>\n",
       "      <td>127.0</td>\n",
       "      <td>2.80</td>\n",
       "      <td>3.06</td>\n",
       "      <td>0.28</td>\n",
       "      <td>2.29</td>\n",
       "      <td>5.64</td>\n",
       "      <td>1.04</td>\n",
       "      <td>3.92</td>\n",
       "      <td>1065.0</td>\n",
       "    </tr>\n",
       "    <tr>\n",
       "      <th>1</th>\n",
       "      <td>13.20</td>\n",
       "      <td>1.78</td>\n",
       "      <td>2.14</td>\n",
       "      <td>11.2</td>\n",
       "      <td>100.0</td>\n",
       "      <td>2.65</td>\n",
       "      <td>2.76</td>\n",
       "      <td>0.26</td>\n",
       "      <td>1.28</td>\n",
       "      <td>4.38</td>\n",
       "      <td>1.05</td>\n",
       "      <td>3.40</td>\n",
       "      <td>1050.0</td>\n",
       "    </tr>\n",
       "    <tr>\n",
       "      <th>2</th>\n",
       "      <td>13.16</td>\n",
       "      <td>2.36</td>\n",
       "      <td>2.67</td>\n",
       "      <td>18.6</td>\n",
       "      <td>101.0</td>\n",
       "      <td>2.80</td>\n",
       "      <td>3.24</td>\n",
       "      <td>0.30</td>\n",
       "      <td>2.81</td>\n",
       "      <td>5.68</td>\n",
       "      <td>1.03</td>\n",
       "      <td>3.17</td>\n",
       "      <td>1185.0</td>\n",
       "    </tr>\n",
       "    <tr>\n",
       "      <th>3</th>\n",
       "      <td>14.37</td>\n",
       "      <td>1.95</td>\n",
       "      <td>2.50</td>\n",
       "      <td>16.8</td>\n",
       "      <td>113.0</td>\n",
       "      <td>3.85</td>\n",
       "      <td>3.49</td>\n",
       "      <td>0.24</td>\n",
       "      <td>2.18</td>\n",
       "      <td>7.80</td>\n",
       "      <td>0.86</td>\n",
       "      <td>3.45</td>\n",
       "      <td>1480.0</td>\n",
       "    </tr>\n",
       "    <tr>\n",
       "      <th>4</th>\n",
       "      <td>13.24</td>\n",
       "      <td>2.59</td>\n",
       "      <td>2.87</td>\n",
       "      <td>21.0</td>\n",
       "      <td>118.0</td>\n",
       "      <td>2.80</td>\n",
       "      <td>2.69</td>\n",
       "      <td>0.39</td>\n",
       "      <td>1.82</td>\n",
       "      <td>4.32</td>\n",
       "      <td>1.04</td>\n",
       "      <td>2.93</td>\n",
       "      <td>735.0</td>\n",
       "    </tr>\n",
       "  </tbody>\n",
       "</table>\n",
       "</div>"
      ],
      "text/plain": [
       "   alcohol  malic_acid   ash  alcalinity_of_ash  magnesium  total_phenols  \\\n",
       "0    14.23        1.71  2.43               15.6      127.0           2.80   \n",
       "1    13.20        1.78  2.14               11.2      100.0           2.65   \n",
       "2    13.16        2.36  2.67               18.6      101.0           2.80   \n",
       "3    14.37        1.95  2.50               16.8      113.0           3.85   \n",
       "4    13.24        2.59  2.87               21.0      118.0           2.80   \n",
       "\n",
       "   flavanoids  nonflavanoid_phenols  proanthocyanins  color_intensity   hue  \\\n",
       "0        3.06                  0.28             2.29             5.64  1.04   \n",
       "1        2.76                  0.26             1.28             4.38  1.05   \n",
       "2        3.24                  0.30             2.81             5.68  1.03   \n",
       "3        3.49                  0.24             2.18             7.80  0.86   \n",
       "4        2.69                  0.39             1.82             4.32  1.04   \n",
       "\n",
       "   od280/od315_of_diluted_wines  proline  \n",
       "0                          3.92   1065.0  \n",
       "1                          3.40   1050.0  \n",
       "2                          3.17   1185.0  \n",
       "3                          3.45   1480.0  \n",
       "4                          2.93    735.0  "
      ]
     },
     "execution_count": 48,
     "metadata": {},
     "output_type": "execute_result"
    }
   ],
   "source": [
    "df.head()"
   ]
  },
  {
   "cell_type": "code",
   "execution_count": 50,
   "id": "275d2d94",
   "metadata": {},
   "outputs": [
    {
     "data": {
      "text/html": [
       "<div>\n",
       "<style scoped>\n",
       "    .dataframe tbody tr th:only-of-type {\n",
       "        vertical-align: middle;\n",
       "    }\n",
       "\n",
       "    .dataframe tbody tr th {\n",
       "        vertical-align: top;\n",
       "    }\n",
       "\n",
       "    .dataframe thead th {\n",
       "        text-align: right;\n",
       "    }\n",
       "</style>\n",
       "<table border=\"1\" class=\"dataframe\">\n",
       "  <thead>\n",
       "    <tr style=\"text-align: right;\">\n",
       "      <th></th>\n",
       "      <th>alcohol</th>\n",
       "      <th>malic_acid</th>\n",
       "      <th>ash</th>\n",
       "      <th>alcalinity_of_ash</th>\n",
       "      <th>magnesium</th>\n",
       "      <th>total_phenols</th>\n",
       "      <th>flavanoids</th>\n",
       "      <th>nonflavanoid_phenols</th>\n",
       "      <th>proanthocyanins</th>\n",
       "      <th>color_intensity</th>\n",
       "      <th>hue</th>\n",
       "      <th>od280/od315_of_diluted_wines</th>\n",
       "      <th>proline</th>\n",
       "    </tr>\n",
       "  </thead>\n",
       "  <tbody>\n",
       "    <tr>\n",
       "      <th>88</th>\n",
       "      <td>11.64</td>\n",
       "      <td>2.06</td>\n",
       "      <td>2.46</td>\n",
       "      <td>21.6</td>\n",
       "      <td>84.0</td>\n",
       "      <td>1.95</td>\n",
       "      <td>1.69</td>\n",
       "      <td>0.48</td>\n",
       "      <td>1.35</td>\n",
       "      <td>2.80</td>\n",
       "      <td>1.00</td>\n",
       "      <td>2.75</td>\n",
       "      <td>680.0</td>\n",
       "    </tr>\n",
       "    <tr>\n",
       "      <th>159</th>\n",
       "      <td>13.48</td>\n",
       "      <td>1.67</td>\n",
       "      <td>2.64</td>\n",
       "      <td>22.5</td>\n",
       "      <td>89.0</td>\n",
       "      <td>2.60</td>\n",
       "      <td>1.10</td>\n",
       "      <td>0.52</td>\n",
       "      <td>2.29</td>\n",
       "      <td>11.75</td>\n",
       "      <td>0.57</td>\n",
       "      <td>1.78</td>\n",
       "      <td>620.0</td>\n",
       "    </tr>\n",
       "    <tr>\n",
       "      <th>11</th>\n",
       "      <td>14.12</td>\n",
       "      <td>1.48</td>\n",
       "      <td>2.32</td>\n",
       "      <td>16.8</td>\n",
       "      <td>95.0</td>\n",
       "      <td>2.20</td>\n",
       "      <td>2.43</td>\n",
       "      <td>0.26</td>\n",
       "      <td>1.57</td>\n",
       "      <td>5.00</td>\n",
       "      <td>1.17</td>\n",
       "      <td>2.82</td>\n",
       "      <td>1280.0</td>\n",
       "    </tr>\n",
       "    <tr>\n",
       "      <th>74</th>\n",
       "      <td>11.96</td>\n",
       "      <td>1.09</td>\n",
       "      <td>2.30</td>\n",
       "      <td>21.0</td>\n",
       "      <td>101.0</td>\n",
       "      <td>3.38</td>\n",
       "      <td>2.14</td>\n",
       "      <td>0.13</td>\n",
       "      <td>1.65</td>\n",
       "      <td>3.21</td>\n",
       "      <td>0.99</td>\n",
       "      <td>3.13</td>\n",
       "      <td>886.0</td>\n",
       "    </tr>\n",
       "    <tr>\n",
       "      <th>158</th>\n",
       "      <td>14.34</td>\n",
       "      <td>1.68</td>\n",
       "      <td>2.70</td>\n",
       "      <td>25.0</td>\n",
       "      <td>98.0</td>\n",
       "      <td>2.80</td>\n",
       "      <td>1.31</td>\n",
       "      <td>0.53</td>\n",
       "      <td>2.70</td>\n",
       "      <td>13.00</td>\n",
       "      <td>0.57</td>\n",
       "      <td>1.96</td>\n",
       "      <td>660.0</td>\n",
       "    </tr>\n",
       "  </tbody>\n",
       "</table>\n",
       "</div>"
      ],
      "text/plain": [
       "     alcohol  malic_acid   ash  alcalinity_of_ash  magnesium  total_phenols  \\\n",
       "88     11.64        2.06  2.46               21.6       84.0           1.95   \n",
       "159    13.48        1.67  2.64               22.5       89.0           2.60   \n",
       "11     14.12        1.48  2.32               16.8       95.0           2.20   \n",
       "74     11.96        1.09  2.30               21.0      101.0           3.38   \n",
       "158    14.34        1.68  2.70               25.0       98.0           2.80   \n",
       "\n",
       "     flavanoids  nonflavanoid_phenols  proanthocyanins  color_intensity   hue  \\\n",
       "88         1.69                  0.48             1.35             2.80  1.00   \n",
       "159        1.10                  0.52             2.29            11.75  0.57   \n",
       "11         2.43                  0.26             1.57             5.00  1.17   \n",
       "74         2.14                  0.13             1.65             3.21  0.99   \n",
       "158        1.31                  0.53             2.70            13.00  0.57   \n",
       "\n",
       "     od280/od315_of_diluted_wines  proline  \n",
       "88                           2.75    680.0  \n",
       "159                          1.78    620.0  \n",
       "11                           2.82   1280.0  \n",
       "74                           3.13    886.0  \n",
       "158                          1.96    660.0  "
      ]
     },
     "execution_count": 50,
     "metadata": {},
     "output_type": "execute_result"
    }
   ],
   "source": [
    "# Generate a sample size of 50 with random state 100\n",
    "sample = df.sample(n=50,random_state=100)\n",
    "sample.head()"
   ]
  },
  {
   "cell_type": "code",
   "execution_count": 52,
   "id": "e9521d98",
   "metadata": {},
   "outputs": [
    {
     "data": {
      "text/plain": [
       "50"
      ]
     },
     "execution_count": 52,
     "metadata": {},
     "output_type": "execute_result"
    }
   ],
   "source": [
    "# calculating z-critical, margin of error, CI for alcohol at 95% significance interval\n",
    "sample_mean = sample['alcohol'].mean()\n",
    "sample_std = sample['alcohol'].std()\n",
    "n = len(sample)\n",
    "n"
   ]
  },
  {
   "cell_type": "code",
   "execution_count": 53,
   "id": "296ac3fd",
   "metadata": {},
   "outputs": [],
   "source": [
    "z_critical = stats.norm.ppf(0.975) # 95% confidence interval"
   ]
  },
  {
   "cell_type": "code",
   "execution_count": 54,
   "id": "e349a917",
   "metadata": {},
   "outputs": [],
   "source": [
    "margin_of_error = z_critical * (sample_std/(n ** 0.5))\n",
    "# confidence interval\n",
    "C_I_lower = sample_mean - margin_of_error\n",
    "C_I_upper = sample_mean + margin_of_error"
   ]
  },
  {
   "cell_type": "code",
   "execution_count": 55,
   "id": "da5be2a4",
   "metadata": {},
   "outputs": [
    {
     "name": "stdout",
     "output_type": "stream",
     "text": [
      "1.959963984540054\n",
      "0.2130595344634679\n",
      "12.760540465536533\n",
      "13.18665953446347\n"
     ]
    }
   ],
   "source": [
    "print(z_critical)\n",
    "print(margin_of_error)\n",
    "print(C_I_lower)\n",
    "print(C_I_upper)"
   ]
  }
 ],
 "metadata": {
  "kernelspec": {
   "display_name": "Python 3 (ipykernel)",
   "language": "python",
   "name": "python3"
  },
  "language_info": {
   "codemirror_mode": {
    "name": "ipython",
    "version": 3
   },
   "file_extension": ".py",
   "mimetype": "text/x-python",
   "name": "python",
   "nbconvert_exporter": "python",
   "pygments_lexer": "ipython3",
   "version": "3.9.13"
  }
 },
 "nbformat": 4,
 "nbformat_minor": 5
}
